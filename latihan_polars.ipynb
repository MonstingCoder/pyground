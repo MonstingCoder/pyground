{
 "cells": [
  {
   "cell_type": "code",
   "execution_count": 3,
   "id": "ef597af5-6fbf-43be-a00b-98538c548e25",
   "metadata": {},
   "outputs": [
    {
     "name": "stdout",
     "output_type": "stream",
     "text": [
      " .\t\t\t\t      LICENSE\n",
      " ..\t\t\t\t      README.md\n",
      " .git\t\t\t\t     'house price'\n",
      " .ipynb_checkpoints\t\t      latihan_polars.ipynb\n",
      "'Data Historis Nikel Berjangka.csv'   latihan_polars2.ipynb\n"
     ]
    }
   ],
   "source": [
    "# !rm dataKu.csv\n",
    "# !ls -a"
   ]
  },
  {
   "cell_type": "code",
   "execution_count": 4,
   "id": "89f1caf0-e8e8-4470-bb06-1247e1fb9521",
   "metadata": {},
   "outputs": [
    {
     "data": {
      "text/html": [
       "<div><style>\n",
       ".dataframe > thead > tr,\n",
       ".dataframe > tbody > tr {\n",
       "  text-align: right;\n",
       "  white-space: pre-wrap;\n",
       "}\n",
       "</style>\n",
       "<small>shape: (6, 5)</small><table border=\"1\" class=\"dataframe\"><thead><tr><th>nama</th><th>tanggal_lahir</th><th>berat_badan</th><th>tinggi</th><th>gender</th></tr><tr><td>str</td><td>str</td><td>f64</td><td>f64</td><td>str</td></tr></thead><tbody><tr><td>&quot;andi tirtawansyah&quot;</td><td>&quot;21 Des 1975&quot;</td><td>82.5</td><td>1.68</td><td>&quot;male&quot;</td></tr><tr><td>&quot;yuli nurlaila sari&quot;</td><td>&quot;12 Jul 1977&quot;</td><td>70.0</td><td>1.64</td><td>&quot;female&quot;</td></tr><tr><td>&quot;muhammad varza&quot;</td><td>&quot;19 Mei 2004&quot;</td><td>88.0</td><td>1.76</td><td>&quot;male&quot;</td></tr><tr><td>&quot;bhenaya&quot;</td><td>&quot;17 Aug 2005&quot;</td><td>92.8</td><td>1.71</td><td>&quot;male&quot;</td></tr><tr><td>&quot;sazisyam&quot;</td><td>&quot;12 Sep 2009&quot;</td><td>49.5</td><td>1.69</td><td>&quot;male&quot;</td></tr><tr><td>&quot;athaya&quot;</td><td>&quot;23 Jul 2018&quot;</td><td>32.5</td><td>1.45</td><td>&quot;male&quot;</td></tr></tbody></table></div>"
      ],
      "text/plain": [
       "shape: (6, 5)\n",
       "┌────────────────────┬───────────────┬─────────────┬────────┬────────┐\n",
       "│ nama               ┆ tanggal_lahir ┆ berat_badan ┆ tinggi ┆ gender │\n",
       "│ ---                ┆ ---           ┆ ---         ┆ ---    ┆ ---    │\n",
       "│ str                ┆ str           ┆ f64         ┆ f64    ┆ str    │\n",
       "╞════════════════════╪═══════════════╪═════════════╪════════╪════════╡\n",
       "│ andi tirtawansyah  ┆ 21 Des 1975   ┆ 82.5        ┆ 1.68   ┆ male   │\n",
       "│ yuli nurlaila sari ┆ 12 Jul 1977   ┆ 70.0        ┆ 1.64   ┆ female │\n",
       "│ muhammad varza     ┆ 19 Mei 2004   ┆ 88.0        ┆ 1.76   ┆ male   │\n",
       "│ bhenaya            ┆ 17 Aug 2005   ┆ 92.8        ┆ 1.71   ┆ male   │\n",
       "│ sazisyam           ┆ 12 Sep 2009   ┆ 49.5        ┆ 1.69   ┆ male   │\n",
       "│ athaya             ┆ 23 Jul 2018   ┆ 32.5        ┆ 1.45   ┆ male   │\n",
       "└────────────────────┴───────────────┴─────────────┴────────┴────────┘"
      ]
     },
     "execution_count": 4,
     "metadata": {},
     "output_type": "execute_result"
    }
   ],
   "source": [
    "import polars as pl\n",
    "\n",
    "dataKu_csv = pl.DataFrame({\n",
    "  'nama': [\n",
    "    'andi tirtawansyah',\n",
    "    'yuli nurlaila sari',\n",
    "    'muhammad varza',\n",
    "    'bhenaya',\n",
    "    'sazisyam',\n",
    "    'athaya'\n",
    "  ],\n",
    "  'tanggal_lahir': [\n",
    "    '21 Des 1975', #Dec\n",
    "    '12 Jul 1977',\n",
    "    '19 Mei 2004', #May\n",
    "    '17 Aug 2005',\n",
    "    '12 Sep 2009',\n",
    "    '23 Jul 2018'\n",
    "  ],\n",
    "  'berat_badan': [ 82.5, 70.0 , 88.0, 92.8, 49.5, 32.5 ],\n",
    "  'tinggi': [ 1.68, 1.64, 1.76, 1.71, 1.69, 1.45 ],\n",
    "  'gender': [ 'male', 'female', 'male', 'male', 'male', 'male' ]\n",
    "})\n",
    "dataKu_csv.write_csv('dataKu.csv')\n",
    "\n",
    "dataKu_csv"
   ]
  },
  {
   "cell_type": "code",
   "execution_count": 5,
   "id": "c4c1c5a0-53ce-4a78-9068-96e0c0fe6728",
   "metadata": {},
   "outputs": [
    {
     "data": {
      "text/html": [
       "<div><style>\n",
       ".dataframe > thead > tr,\n",
       ".dataframe > tbody > tr {\n",
       "  text-align: right;\n",
       "  white-space: pre-wrap;\n",
       "}\n",
       "</style>\n",
       "<small>shape: (6, 5)</small><table border=\"1\" class=\"dataframe\"><thead><tr><th>nama</th><th>tanggal_lahir</th><th>berat_badan</th><th>tinggi</th><th>gender</th></tr><tr><td>str</td><td>str</td><td>f64</td><td>f64</td><td>str</td></tr></thead><tbody><tr><td>&quot;andi tirtawansyah&quot;</td><td>&quot;21 Des 1975&quot;</td><td>82.5</td><td>1.68</td><td>&quot;male&quot;</td></tr><tr><td>&quot;yuli nurlaila sari&quot;</td><td>&quot;12 Jul 1977&quot;</td><td>70.0</td><td>1.64</td><td>&quot;female&quot;</td></tr><tr><td>&quot;muhammad varza&quot;</td><td>&quot;19 Mei 2004&quot;</td><td>88.0</td><td>1.76</td><td>&quot;male&quot;</td></tr><tr><td>&quot;bhenaya&quot;</td><td>&quot;17 Aug 2005&quot;</td><td>92.8</td><td>1.71</td><td>&quot;male&quot;</td></tr><tr><td>&quot;sazisyam&quot;</td><td>&quot;12 Sep 2009&quot;</td><td>49.5</td><td>1.69</td><td>&quot;male&quot;</td></tr><tr><td>&quot;athaya&quot;</td><td>&quot;23 Jul 2018&quot;</td><td>32.5</td><td>1.45</td><td>&quot;male&quot;</td></tr></tbody></table></div>"
      ],
      "text/plain": [
       "shape: (6, 5)\n",
       "┌────────────────────┬───────────────┬─────────────┬────────┬────────┐\n",
       "│ nama               ┆ tanggal_lahir ┆ berat_badan ┆ tinggi ┆ gender │\n",
       "│ ---                ┆ ---           ┆ ---         ┆ ---    ┆ ---    │\n",
       "│ str                ┆ str           ┆ f64         ┆ f64    ┆ str    │\n",
       "╞════════════════════╪═══════════════╪═════════════╪════════╪════════╡\n",
       "│ andi tirtawansyah  ┆ 21 Des 1975   ┆ 82.5        ┆ 1.68   ┆ male   │\n",
       "│ yuli nurlaila sari ┆ 12 Jul 1977   ┆ 70.0        ┆ 1.64   ┆ female │\n",
       "│ muhammad varza     ┆ 19 Mei 2004   ┆ 88.0        ┆ 1.76   ┆ male   │\n",
       "│ bhenaya            ┆ 17 Aug 2005   ┆ 92.8        ┆ 1.71   ┆ male   │\n",
       "│ sazisyam           ┆ 12 Sep 2009   ┆ 49.5        ┆ 1.69   ┆ male   │\n",
       "│ athaya             ┆ 23 Jul 2018   ┆ 32.5        ┆ 1.45   ┆ male   │\n",
       "└────────────────────┴───────────────┴─────────────┴────────┴────────┘"
      ]
     },
     "execution_count": 5,
     "metadata": {},
     "output_type": "execute_result"
    }
   ],
   "source": [
    "import seaborn as sns\n",
    "import polars.selectors as cs\n",
    "import polars as pl\n",
    "\n",
    "data = r'dataKu.csv'\n",
    "df = pl.read_csv(data, try_parse_dates=True, n_threads=1, low_memory=True)\n",
    "\n",
    "df"
   ]
  },
  {
   "cell_type": "code",
   "execution_count": 6,
   "id": "0dbe0100-28f6-47e8-96f0-ba141397b26b",
   "metadata": {},
   "outputs": [
    {
     "data": {
      "text/html": [
       "<div><style>\n",
       ".dataframe > thead > tr,\n",
       ".dataframe > tbody > tr {\n",
       "  text-align: right;\n",
       "  white-space: pre-wrap;\n",
       "}\n",
       "</style>\n",
       "<small>shape: (6, 5)</small><table border=\"1\" class=\"dataframe\"><thead><tr><th>nama</th><th>tanggal_lahir</th><th>berat_badan</th><th>tinggi</th><th>gender</th></tr><tr><td>str</td><td>date</td><td>f32</td><td>f32</td><td>str</td></tr></thead><tbody><tr><td>&quot;andi tirtawansyah&quot;</td><td>1975-12-21</td><td>82.5</td><td>1.68</td><td>&quot;male&quot;</td></tr><tr><td>&quot;yuli nurlaila sari&quot;</td><td>1977-07-12</td><td>70.0</td><td>1.64</td><td>&quot;female&quot;</td></tr><tr><td>&quot;muhammad varza&quot;</td><td>2004-05-19</td><td>88.0</td><td>1.76</td><td>&quot;male&quot;</td></tr><tr><td>&quot;bhenaya&quot;</td><td>2005-08-17</td><td>92.800003</td><td>1.71</td><td>&quot;male&quot;</td></tr><tr><td>&quot;sazisyam&quot;</td><td>2009-09-12</td><td>49.5</td><td>1.69</td><td>&quot;male&quot;</td></tr><tr><td>&quot;athaya&quot;</td><td>2018-07-23</td><td>32.5</td><td>1.45</td><td>&quot;male&quot;</td></tr></tbody></table></div>"
      ],
      "text/plain": [
       "shape: (6, 5)\n",
       "┌────────────────────┬───────────────┬─────────────┬────────┬────────┐\n",
       "│ nama               ┆ tanggal_lahir ┆ berat_badan ┆ tinggi ┆ gender │\n",
       "│ ---                ┆ ---           ┆ ---         ┆ ---    ┆ ---    │\n",
       "│ str                ┆ date          ┆ f32         ┆ f32    ┆ str    │\n",
       "╞════════════════════╪═══════════════╪═════════════╪════════╪════════╡\n",
       "│ andi tirtawansyah  ┆ 1975-12-21    ┆ 82.5        ┆ 1.68   ┆ male   │\n",
       "│ yuli nurlaila sari ┆ 1977-07-12    ┆ 70.0        ┆ 1.64   ┆ female │\n",
       "│ muhammad varza     ┆ 2004-05-19    ┆ 88.0        ┆ 1.76   ┆ male   │\n",
       "│ bhenaya            ┆ 2005-08-17    ┆ 92.800003   ┆ 1.71   ┆ male   │\n",
       "│ sazisyam           ┆ 2009-09-12    ┆ 49.5        ┆ 1.69   ┆ male   │\n",
       "│ athaya             ┆ 2018-07-23    ┆ 32.5        ┆ 1.45   ┆ male   │\n",
       "└────────────────────┴───────────────┴─────────────┴────────┴────────┘"
      ]
     },
     "execution_count": 6,
     "metadata": {},
     "output_type": "execute_result"
    }
   ],
   "source": [
    "result = df.with_columns(\n",
    "  pl.col('tanggal_lahir')\n",
    "  .str.replace_many({\n",
    "    'Mei': 'May',\n",
    "    'Des': 'Dec',\n",
    "  })\n",
    "  .str.to_date('%d %b %Y', strict=False, exact=False),\n",
    "  pl.col('berat_badan', 'tinggi').cast(pl.Float32)\n",
    ")\n",
    "\n",
    "result"
   ]
  },
  {
   "cell_type": "code",
   "execution_count": 7,
   "id": "a7bb4315-93ff-42ae-a5d4-8141cf0dc622",
   "metadata": {},
   "outputs": [
    {
     "data": {
      "text/html": [
       "<div><style>\n",
       ".dataframe > thead > tr,\n",
       ".dataframe > tbody > tr {\n",
       "  text-align: right;\n",
       "  white-space: pre-wrap;\n",
       "}\n",
       "</style>\n",
       "<small>shape: (6, 2)</small><table border=\"1\" class=\"dataframe\"><thead><tr><th>Name</th><th>Birth Date</th></tr><tr><td>str</td><td>date</td></tr></thead><tbody><tr><td>&quot;king: andi tirtawansyah&quot;</td><td>1975-12-21</td></tr><tr><td>&quot;queen: yuli nurlaila sari&quot;</td><td>1977-07-12</td></tr><tr><td>&quot;king: muhammad varza&quot;</td><td>2004-05-19</td></tr><tr><td>&quot;king: bhenaya&quot;</td><td>2005-08-17</td></tr><tr><td>&quot;king: sazisyam&quot;</td><td>2009-09-12</td></tr><tr><td>&quot;king: athaya&quot;</td><td>2018-07-23</td></tr></tbody></table></div>"
      ],
      "text/plain": [
       "shape: (6, 2)\n",
       "┌───────────────────────────┬────────────┐\n",
       "│ Name                      ┆ Birth Date │\n",
       "│ ---                       ┆ ---        │\n",
       "│ str                       ┆ date       │\n",
       "╞═══════════════════════════╪════════════╡\n",
       "│ king: andi tirtawansyah   ┆ 1975-12-21 │\n",
       "│ queen: yuli nurlaila sari ┆ 1977-07-12 │\n",
       "│ king: muhammad varza      ┆ 2004-05-19 │\n",
       "│ king: bhenaya             ┆ 2005-08-17 │\n",
       "│ king: sazisyam            ┆ 2009-09-12 │\n",
       "│ king: athaya              ┆ 2018-07-23 │\n",
       "└───────────────────────────┴────────────┘"
      ]
     },
     "execution_count": 7,
     "metadata": {},
     "output_type": "execute_result"
    }
   ],
   "source": [
    "result.with_columns(\n",
    "  pl.when(pl.col('gender') == 'male')\n",
    "  .then('king: ' + pl.col('nama'))\n",
    "  .otherwise('queen: ' + pl.col('nama'))\n",
    "  .alias('nama')\n",
    ").select(\n",
    "  pl.col('nama').alias('Name'),\n",
    "  pl.col('tanggal_lahir').alias('Birth Date')\n",
    ")"
   ]
  },
  {
   "cell_type": "code",
   "execution_count": 8,
   "id": "ad652a80-97e2-4ea4-8dbc-ab7d06121743",
   "metadata": {},
   "outputs": [
    {
     "data": {
      "text/html": [
       "<div><style>\n",
       ".dataframe > thead > tr,\n",
       ".dataframe > tbody > tr {\n",
       "  text-align: right;\n",
       "  white-space: pre-wrap;\n",
       "}\n",
       "</style>\n",
       "<small>shape: (4, 2)</small><table border=\"1\" class=\"dataframe\"><thead><tr><th>Nama</th><th>Tanggal Lahir</th></tr><tr><td>str</td><td>date</td></tr></thead><tbody><tr><td>&quot;muhammad varza&quot;</td><td>2004-05-19</td></tr><tr><td>&quot;bhenaya&quot;</td><td>2005-08-17</td></tr><tr><td>&quot;sazisyam&quot;</td><td>2009-09-12</td></tr><tr><td>&quot;athaya&quot;</td><td>2018-07-23</td></tr></tbody></table></div>"
      ],
      "text/plain": [
       "shape: (4, 2)\n",
       "┌────────────────┬───────────────┐\n",
       "│ Nama           ┆ Tanggal Lahir │\n",
       "│ ---            ┆ ---           │\n",
       "│ str            ┆ date          │\n",
       "╞════════════════╪═══════════════╡\n",
       "│ muhammad varza ┆ 2004-05-19    │\n",
       "│ bhenaya        ┆ 2005-08-17    │\n",
       "│ sazisyam       ┆ 2009-09-12    │\n",
       "│ athaya         ┆ 2018-07-23    │\n",
       "└────────────────┴───────────────┘"
      ]
     },
     "execution_count": 8,
     "metadata": {},
     "output_type": "execute_result"
    }
   ],
   "source": [
    "result.filter(\n",
    "  pl.col('tanggal_lahir')\n",
    "  .dt.year() > 2_000\n",
    ").select(\n",
    "  pl.col('nama').alias('Nama'),\n",
    "  pl.col('tanggal_lahir').alias('Tanggal Lahir')\n",
    ")"
   ]
  },
  {
   "cell_type": "code",
   "execution_count": 9,
   "id": "dd10b19c-14cd-4491-b1d7-a35cca6a71aa",
   "metadata": {},
   "outputs": [
    {
     "data": {
      "text/html": [
       "<div><style>\n",
       ".dataframe > thead > tr,\n",
       ".dataframe > tbody > tr {\n",
       "  text-align: right;\n",
       "  white-space: pre-wrap;\n",
       "}\n",
       "</style>\n",
       "<small>shape: (2, 3)</small><table border=\"1\" class=\"dataframe\"><thead><tr><th>Tahun Lahir</th><th>Berat Badan</th><th>Jumlah</th></tr><tr><td>u16</td><td>f32</td><td>u32</td></tr></thead><tbody><tr><td>1900</td><td>76.25</td><td>2</td></tr><tr><td>2000</td><td>67.224998</td><td>4</td></tr></tbody></table></div>"
      ],
      "text/plain": [
       "shape: (2, 3)\n",
       "┌─────────────┬─────────────┬────────┐\n",
       "│ Tahun Lahir ┆ Berat Badan ┆ Jumlah │\n",
       "│ ---         ┆ ---         ┆ ---    │\n",
       "│ u16         ┆ f32         ┆ u32    │\n",
       "╞═════════════╪═════════════╪════════╡\n",
       "│ 1900        ┆ 76.25       ┆ 2      │\n",
       "│ 2000        ┆ 67.224998   ┆ 4      │\n",
       "└─────────────┴─────────────┴────────┘"
      ]
     },
     "execution_count": 9,
     "metadata": {},
     "output_type": "execute_result"
    }
   ],
   "source": [
    "result.group_by(\n",
    "  (pl.col('tanggal_lahir').dt.year() // 100 * 100).alias('Tahun Lahir')\n",
    "  .cast(pl.UInt16)\n",
    ").agg(\n",
    "  ((pl.col('berat_badan').mean() + pl.col('berat_badan').median()) / 2).alias('Berat Badan'),\n",
    "  pl.len().alias('Jumlah')\n",
    ").sort('Tahun Lahir')"
   ]
  },
  {
   "cell_type": "code",
   "execution_count": 10,
   "id": "63416e3b-ee5a-42e0-9bbb-9b0f743f68ba",
   "metadata": {},
   "outputs": [
    {
     "data": {
      "text/html": [
       "<div><style>\n",
       ".dataframe > thead > tr,\n",
       ".dataframe > tbody > tr {\n",
       "  text-align: right;\n",
       "  white-space: pre-wrap;\n",
       "}\n",
       "</style>\n",
       "<small>shape: (2, 3)</small><table border=\"1\" class=\"dataframe\"><thead><tr><th>gender</th><th>1900</th><th>2000</th></tr><tr><td>str</td><td>f32</td><td>f32</td></tr></thead><tbody><tr><td>&quot;male&quot;</td><td>82.5</td><td>65.699997</td></tr><tr><td>&quot;female&quot;</td><td>70.0</td><td>null</td></tr></tbody></table></div>"
      ],
      "text/plain": [
       "shape: (2, 3)\n",
       "┌────────┬──────┬───────────┐\n",
       "│ gender ┆ 1900 ┆ 2000      │\n",
       "│ ---    ┆ ---  ┆ ---       │\n",
       "│ str    ┆ f32  ┆ f32       │\n",
       "╞════════╪══════╪═══════════╡\n",
       "│ male   ┆ 82.5 ┆ 65.699997 │\n",
       "│ female ┆ 70.0 ┆ null      │\n",
       "└────────┴──────┴───────────┘"
      ]
     },
     "execution_count": 10,
     "metadata": {},
     "output_type": "execute_result"
    }
   ],
   "source": [
    "result.with_columns(\n",
    "  (pl.col('tanggal_lahir').dt.year() // 100 * 100).alias('tl_rounded')\n",
    "  .cast(pl.UInt16)\n",
    ").pivot('tl_rounded', index='gender', values='berat_badan', aggregate_function='mean')"
   ]
  }
 ],
 "metadata": {
  "kernelspec": {
   "display_name": "Python 3 (ipykernel)",
   "language": "python",
   "name": "python3"
  },
  "language_info": {
   "codemirror_mode": {
    "name": "ipython",
    "version": 3
   },
   "file_extension": ".py",
   "mimetype": "text/x-python",
   "name": "python",
   "nbconvert_exporter": "python",
   "pygments_lexer": "ipython3",
   "version": "3.9.22"
  }
 },
 "nbformat": 4,
 "nbformat_minor": 5
}
